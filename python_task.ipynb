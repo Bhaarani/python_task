{
  "nbformat": 4,
  "nbformat_minor": 0,
  "metadata": {
    "colab": {
      "provenance": []
    },
    "kernelspec": {
      "name": "python3",
      "display_name": "Python 3"
    },
    "language_info": {
      "name": "python"
    }
  },
  "cells": [
    {
      "cell_type": "markdown",
      "source": [
        "1.Write a program to find out the prime numbers"
      ],
      "metadata": {
        "id": "h1IMN6fHvSqs"
      }
    },
    {
      "cell_type": "code",
      "source": [
        "num=int(input(\"Enter the number: \"))\n",
        "for i in range(2,num):\n",
        "  if (num%i)==0:\n",
        "    print(\"Not a prime number\"\n",
        "    break\n",
        "  else:\n",
        "    print(\"You Have Entered a Prime Number\")\n",
        "    break"
      ],
      "metadata": {
        "id": "yz9oUX514uXk",
        "colab": {
          "base_uri": "https://localhost:8080/"
        },
        "outputId": "1ce9195d-4606-4035-ea58-30e0731a4474"
      },
      "execution_count": null,
      "outputs": [
        {
          "output_type": "stream",
          "name": "stdout",
          "text": [
            "Enter the number: 7\n",
            "Entered number is Prime Number\n"
          ]
        }
      ]
    },
    {
      "cell_type": "markdown",
      "source": [
        "2.write a program to create the equation (a+b+c) *  (a-b-c) * ab + a^2 + b ^2 + (abc)^3\n"
      ],
      "metadata": {
        "id": "oDKORsxMvkRK"
      }
    },
    {
      "cell_type": "code",
      "execution_count": null,
      "metadata": {
        "id": "AA0FY6GIbQmN",
        "colab": {
          "base_uri": "https://localhost:8080/"
        },
        "outputId": "2f115c01-001c-40b3-b7e6-f62d681e5a02"
      },
      "outputs": [
        {
          "output_type": "stream",
          "name": "stdout",
          "text": [
            "30 3 6\n",
            "157538619\n"
          ]
        }
      ],
      "source": [
        "a,b,c=map(int,input().split())\n",
        "equation=(((a+b+c)*(a-b-c)*(a*b))+(a**2)+(b**2)+((a*b*c)**3))\n",
        "print(equation)"
      ]
    },
    {
      "cell_type": "markdown",
      "source": [
        "3. urlist = ['wood','knife','axe'] , mylist = ['tree', 'apple', 'mango', 'melon'] – combine two lists\n"
      ],
      "metadata": {
        "id": "Sy3wHCLUvl5D"
      }
    },
    {
      "cell_type": "code",
      "source": [
        "urlist = ['wood','knife','axe'] \n",
        "mylist = ['tree', 'apple', 'mango', 'melon'] \n",
        "finallist=urlist+mylist\n",
        "print(finallist)"
      ],
      "metadata": {
        "id": "r7pFAXA7cEVK",
        "colab": {
          "base_uri": "https://localhost:8080/"
        },
        "outputId": "23cc2965-60d8-40ec-ef09-52bbe551b373"
      },
      "execution_count": null,
      "outputs": [
        {
          "output_type": "stream",
          "name": "stdout",
          "text": [
            "['wood', 'knife', 'axe', 'tree', 'apple', 'mango', 'melon']\n"
          ]
        }
      ]
    },
    {
      "cell_type": "markdown",
      "source": [
        "4.write a program for natural number based on user input\n"
      ],
      "metadata": {
        "id": "ehyVKG6jsJSd"
      }
    },
    {
      "cell_type": "code",
      "source": [
        "user_input=int(input())\n",
        "for i in range(1,user_input+1):\n",
        "  print(i)"
      ],
      "metadata": {
        "id": "UzqQmbndclB_",
        "colab": {
          "base_uri": "https://localhost:8080/"
        },
        "outputId": "ee964ad3-a324-4115-f516-13552ac27e7b"
      },
      "execution_count": null,
      "outputs": [
        {
          "output_type": "stream",
          "name": "stdout",
          "text": [
            "5\n",
            "1\n",
            "2\n",
            "3\n",
            "4\n",
            "5\n"
          ]
        }
      ]
    },
    {
      "cell_type": "markdown",
      "source": [
        "5.write class and function for the equation sqrt(x1-x2) ^ 2 + sqrt( y1 – y2 ) ^2 using try except handling"
      ],
      "metadata": {
        "id": "1WJUc4w1vxGT"
      }
    },
    {
      "cell_type": "code",
      "source": [
        "try:\n",
        "  x1,x2=map(int,input().split(\",\"))\n",
        "  y1,y2=map(int,input().split(\",\"))\n",
        "  def distance(x1, y1, x2, y2):\n",
        "    return (((x2 - x1)**2 +(y2 - y1)**2)**0.5)\n",
        "  print(distance(x1, x2, y1, y2 ))\n",
        "  \n",
        "except ValueError:\n",
        "  print(\"enter a integer\")"
      ],
      "metadata": {
        "id": "Jd11eR-4vvJx",
        "colab": {
          "base_uri": "https://localhost:8080/"
        },
        "outputId": "f7d0d546-5300-44e0-87f9-9df9c302a6d3"
      },
      "execution_count": null,
      "outputs": [
        {
          "output_type": "stream",
          "name": "stdout",
          "text": [
            "w\n",
            "enter a integer\n"
          ]
        }
      ]
    },
    {
      "cell_type": "markdown",
      "source": [
        "6. Name  = “Guvi python”  - write a program to get “python” word from the string\n"
      ],
      "metadata": {
        "id": "5Cwb5dnDv2sV"
      }
    },
    {
      "cell_type": "code",
      "source": [
        "Name=\"Guvi python\"\n",
        "l=list((Name.split()))\n",
        "\n",
        "print(l[1])\n"
      ],
      "metadata": {
        "colab": {
          "base_uri": "https://localhost:8080/"
        },
        "id": "_EX5Noh2d8ie",
        "outputId": "b946ae51-c196-411a-cbf0-a591e59ff1f5"
      },
      "execution_count": null,
      "outputs": [
        {
          "output_type": "stream",
          "name": "stdout",
          "text": [
            "python\n"
          ]
        }
      ]
    },
    {
      "cell_type": "markdown",
      "source": [
        "7.Using class and function - Write a program for palindrome Ex. Madam\n"
      ],
      "metadata": {
        "id": "IKvXJw-pv6U2"
      }
    },
    {
      "cell_type": "code",
      "source": [
        "def palindrome():\n",
        "    string = list(input())\n",
        "    revstring = []\n",
        "    for i in string[::-1]:\n",
        "        revstring.append(i)\n",
        "\n",
        "    if string == (revstring):\n",
        "        print(\"palindrome\")\n",
        "    else:\n",
        "        print(\"not a palindromeqw\")\n",
        "palindrome()\n"
      ],
      "metadata": {
        "colab": {
          "base_uri": "https://localhost:8080/"
        },
        "id": "AspgWPov2kW3",
        "outputId": "12a91a55-6808-4044-9d56-a1fd5f9cbd7c"
      },
      "execution_count": null,
      "outputs": [
        {
          "output_type": "stream",
          "name": "stdout",
          "text": [
            "MALAYALAM\n",
            "palindrome\n"
          ]
        }
      ]
    },
    {
      "cell_type": "markdown",
      "source": [
        "8.using file handling – write a text file in ur system with “hello world”\n"
      ],
      "metadata": {
        "id": "SAbg83TFwKrM"
      }
    },
    {
      "cell_type": "code",
      "source": [
        "f=open(\"/content/python.txt\",\"a\")\n",
        "f.write(\"hellow world\")\n",
        "f.close\n",
        "f=open(\"/content/python.txt\",\"r\")\n",
        "print(f)"
      ],
      "metadata": {
        "colab": {
          "base_uri": "https://localhost:8080/"
        },
        "id": "oowdFIUA0b-f",
        "outputId": "bd42d5e5-5ba7-4c6f-a085-6f43a0678796"
      },
      "execution_count": null,
      "outputs": [
        {
          "output_type": "stream",
          "name": "stdout",
          "text": [
            "<_io.TextIOWrapper name='/content/python.txt' mode='r' encoding='UTF-8'>\n"
          ]
        }
      ]
    },
    {
      "cell_type": "markdown",
      "source": [
        "9.create option button using tkinter GUI in python\n"
      ],
      "metadata": {
        "id": "NN7mao6cwqRH"
      }
    },
    {
      "cell_type": "code",
      "source": [
        "!apt-get install -y xvfb # Install X Virtual Frame Buffer\n",
        "import os\n",
        "os.system('Xvfb :1 -screen 0 1600x1200x16  &')    # create   with size 1600x1200 and 16 bit color. Color can be changed to 24 or 8\n",
        "os.environ['DISPLAY']=':2.0'"
      ],
      "metadata": {
        "colab": {
          "base_uri": "https://localhost:8080/"
        },
        "id": "On1muU4295fZ",
        "outputId": "9dcbeece-75f4-4b37-8255-beb728fc3d99"
      },
      "execution_count": null,
      "outputs": [
        {
          "output_type": "stream",
          "name": "stdout",
          "text": [
            "Reading package lists... Done\n",
            "Building dependency tree       \n",
            "Reading state information... Done\n",
            "xvfb is already the newest version (2:1.19.6-1ubuntu4.13).\n",
            "The following package was automatically installed and is no longer required:\n",
            "  libnvidia-common-460\n",
            "Use 'apt autoremove' to remove it.\n",
            "0 upgraded, 0 newly installed, 0 to remove and 20 not upgraded.\n"
          ]
        }
      ]
    },
    {
      "cell_type": "code",
      "source": [
        "import tkinter\n",
        "x=tkinter.Tk()\n",
        "x.geometry(\"200x200\")\n",
        "b=tkinter.Button(x,text=\"option\")\n",
        "b.pack()\n",
        "x.mainloop()"
      ],
      "metadata": {
        "id": "duo0lXQxr83O"
      },
      "execution_count": null,
      "outputs": []
    },
    {
      "cell_type": "markdown",
      "source": [
        "10.Keep only numbers from the following string x = “ 89e9jcd^o38829@3%3,/mkl$w1”"
      ],
      "metadata": {
        "id": "LXV8SXruwwPP"
      }
    },
    {
      "cell_type": "code",
      "source": [
        "x=\"89e9jcd^o38829@3%3,/mkl$w1\"\n",
        "y=[]\n",
        "for i in x:\n",
        "    if i.isdigit():\n",
        "        y.append(i)\n",
        "print(*y)"
      ],
      "metadata": {
        "id": "YMMMb7Gg4rsV",
        "colab": {
          "base_uri": "https://localhost:8080/"
        },
        "outputId": "323f580c-807a-40c4-b4bc-807efe7c9985"
      },
      "execution_count": null,
      "outputs": [
        {
          "output_type": "stream",
          "name": "stdout",
          "text": [
            "8 9 9 3 8 8 2 9 3 3 1\n"
          ]
        }
      ]
    }
  ]
}